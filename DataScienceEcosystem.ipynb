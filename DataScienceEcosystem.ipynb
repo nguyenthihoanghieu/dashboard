{
 "cells": [
  {
   "cell_type": "markdown",
   "id": "7ffb8f89-6929-4856-90ff-a5b07dd571dd",
   "metadata": {},
   "source": [
    "# Data Science Tools and Ecosystem\n"
   ]
  },
  {
   "cell_type": "markdown",
   "id": "bf1336d8-9128-4d2a-8e20-e42cafda0c4c",
   "metadata": {},
   "source": [
    "In this notebook, Data Science Tools and Ecosystem are summarized.\n"
   ]
  },
  {
   "cell_type": "markdown",
   "id": "03184615-60d2-49a7-8aca-7d19554120d2",
   "metadata": {},
   "source": [
    "\n",
    "## Commonly Used Languages for Data Science\n",
    "\n",
    "1. Python\n",
    "2. R\n",
    "3. SQL\n"
   ]
  },
  {
   "cell_type": "markdown",
   "id": "41c65822-5502-4820-9d0b-11e1acb2da10",
   "metadata": {},
   "source": [
    "## Commonly Used Libraries for Data Science\n",
    "\n",
    "Some of the commonly used libraries used by Data Scientists include:\n",
    "\n",
    "1. NumPy\n",
    "2. Pandas\n",
    "3. Matplotlib\n",
    "4. Scikit-learn"
   ]
  },
  {
   "cell_type": "markdown",
   "id": "340340b1-35f8-4445-9c6d-d186bf630bdd",
   "metadata": {},
   "source": [
    "## Data Science Tools\n",
    "\n",
    "| Data Science Tools   |\n",
    "|----------------------|\n",
    "| Jupyter Notebook     |\n",
    "| Google Colab         |\n",
    "| RStudio              |"
   ]
  },
  {
   "cell_type": "markdown",
   "id": "221074eb-57cc-46b3-b0d1-6b44dc22cf93",
   "metadata": {},
   "source": [
    "\n",
    "\n",
    "Below are a few examples of evaluating arithmetic expressions in Python."
   ]
  },
  {
   "cell_type": "code",
   "execution_count": 1,
   "id": "75fa6896-c63f-4ad6-b889-c724d7388b14",
   "metadata": {
    "tags": []
   },
   "outputs": [
    {
     "data": {
      "text/plain": [
       "17"
      ]
     },
     "execution_count": 1,
     "metadata": {},
     "output_type": "execute_result"
    }
   ],
   "source": [
    "# This is a simple arithmetic expression to multiply then add integers\n",
    "result = (3 * 4) + 5\n",
    "result"
   ]
  },
  {
   "cell_type": "markdown",
   "id": "a869b0e1-a029-4779-b870-103b99a50793",
   "metadata": {},
   "source": [
    "This is a simple arithmetic expression to multiply then add integers\n"
   ]
  },
  {
   "cell_type": "code",
   "execution_count": 2,
   "id": "dee75d28-d3f9-42eb-8605-987f1145e1f6",
   "metadata": {
    "tags": []
   },
   "outputs": [
    {
     "data": {
      "text/plain": [
       "17"
      ]
     },
     "execution_count": 2,
     "metadata": {},
     "output_type": "execute_result"
    }
   ],
   "source": [
    "result = (3 * 4) + 5\n",
    "result"
   ]
  },
  {
   "cell_type": "code",
   "execution_count": 3,
   "id": "2b6d9862-9e1c-4d6e-803f-c7ea238355d7",
   "metadata": {
    "tags": []
   },
   "outputs": [
    {
     "data": {
      "text/plain": [
       "3.3333333333333335"
      ]
     },
     "execution_count": 3,
     "metadata": {},
     "output_type": "execute_result"
    }
   ],
   "source": [
    "# This will convert 200 minutes to hours by dividing by 60\n",
    "minutes = 200\n",
    "hours = minutes / 60\n",
    "hours"
   ]
  },
  {
   "cell_type": "markdown",
   "id": "8018c428-61ae-4cbb-a07c-6b37b2aa8667",
   "metadata": {},
   "source": [
    "This will convert 200 minutes to hours by dividing by 60\n"
   ]
  },
  {
   "cell_type": "code",
   "execution_count": 4,
   "id": "8742cf5b-717b-4ee4-ac90-ddbfe4e376d7",
   "metadata": {
    "tags": []
   },
   "outputs": [
    {
     "data": {
      "text/plain": [
       "3.3333333333333335"
      ]
     },
     "execution_count": 4,
     "metadata": {},
     "output_type": "execute_result"
    }
   ],
   "source": [
    "minutes = 200\n",
    "hours = minutes / 60\n",
    "hours"
   ]
  },
  {
   "cell_type": "markdown",
   "id": "94b872d0-3071-45d9-8c46-0c3ef555f4cf",
   "metadata": {},
   "source": [
    "**Objectives:**\n",
    "\n",
    "- List popular languages for Data Science\n",
    "- Identify commonly used libraries in Data Science\n",
    "- Recognize open-source development environments for Data Science\n",
    "- Perform basic arithmetic operations in Python\n",
    "- Convert units of time using Python"
   ]
  },
  {
   "cell_type": "markdown",
   "id": "7fe9bd1f-98bd-44f0-91c2-9133bbe14dbc",
   "metadata": {},
   "source": [
    "**Objectives:**\n",
    "\n",
    "- List popular languages for Data Science\n",
    "  - Python\n",
    "  - R\n",
    "  - SQL\n",
    "- Identify commonly used libraries in Data Science\n",
    "  - NumPy\n",
    "  - Pandas\n",
    "  - Matplotlib\n",
    "  - Scikit-learn"
   ]
  },
  {
   "cell_type": "markdown",
   "id": "18eae30e-46ef-4248-90b8-487b9b78a508",
   "metadata": {},
   "source": [
    "## Author\n",
    "\n",
    "Hieu Nguyen\n"
   ]
  },
  {
   "cell_type": "code",
   "execution_count": null,
   "id": "2856a68a-60a9-466f-b9fe-439708951738",
   "metadata": {},
   "outputs": [],
   "source": []
  }
 ],
 "metadata": {
  "kernelspec": {
   "display_name": "Python",
   "language": "python",
   "name": "conda-env-python-py"
  },
  "language_info": {
   "codemirror_mode": {
    "name": "ipython",
    "version": 3
   },
   "file_extension": ".py",
   "mimetype": "text/x-python",
   "name": "python",
   "nbconvert_exporter": "python",
   "pygments_lexer": "ipython3",
   "version": "3.7.12"
  }
 },
 "nbformat": 4,
 "nbformat_minor": 5
}
